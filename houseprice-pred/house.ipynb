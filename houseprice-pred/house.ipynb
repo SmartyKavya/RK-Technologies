{
 "cells": [
  {
   "cell_type": "code",
   "execution_count": 1,
   "metadata": {},
   "outputs": [],
   "source": [
    "import pandas as pd"
   ]
  },
  {
   "cell_type": "code",
   "execution_count": 2,
   "metadata": {},
   "outputs": [
    {
     "name": "stdout",
     "output_type": "stream",
     "text": [
      "      Unnamed: 0             location  total_sqft  bath  price  bhk\n",
      "0              0  1st Block Jayanagar      2850.0   4.0  428.0    4\n",
      "1              1  1st Block Jayanagar      1630.0   3.0  194.0    3\n",
      "2              2  1st Block Jayanagar      1875.0   2.0  235.0    3\n",
      "3              3  1st Block Jayanagar      1200.0   2.0  130.0    3\n",
      "4              4  1st Block Jayanagar      1235.0   2.0  148.0    2\n",
      "...          ...                  ...         ...   ...    ...  ...\n",
      "7356       10292                other      1200.0   2.0   70.0    2\n",
      "7357       10293                other      1800.0   1.0  200.0    1\n",
      "7358       10296                other      1353.0   2.0  110.0    2\n",
      "7359       10297                other       812.0   1.0   26.0    1\n",
      "7360       10300                other      3600.0   5.0  400.0    4\n",
      "\n",
      "[7361 rows x 6 columns]\n"
     ]
    }
   ],
   "source": [
    "data=pd.read_csv('c.csv')\n",
    "print(data)"
   ]
  },
  {
   "cell_type": "code",
   "execution_count": 3,
   "metadata": {},
   "outputs": [],
   "source": [
    "from sklearn.model_selection import train_test_split\n",
    "from sklearn.linear_model import LinearRegression,Lasso,Ridge\n",
    "from sklearn.preprocessing import OneHotEncoder,StandardScaler\n",
    "from sklearn.compose import make_column_transformer\n",
    "from sklearn.pipeline import make_pipeline\n",
    "from sklearn.metrics import r2_score\n"
   ]
  },
  {
   "cell_type": "code",
   "execution_count": 4,
   "metadata": {},
   "outputs": [],
   "source": [
    "data=data[['location','total_sqft','bath','price','bhk']]"
   ]
  },
  {
   "cell_type": "code",
   "execution_count": 5,
   "metadata": {},
   "outputs": [
    {
     "data": {
      "text/plain": [
       "0       428.0\n",
       "1       194.0\n",
       "2       235.0\n",
       "3       130.0\n",
       "4       148.0\n",
       "        ...  \n",
       "7356     70.0\n",
       "7357    200.0\n",
       "7358    110.0\n",
       "7359     26.0\n",
       "7360    400.0\n",
       "Name: price, Length: 7361, dtype: float64"
      ]
     },
     "execution_count": 5,
     "metadata": {},
     "output_type": "execute_result"
    }
   ],
   "source": [
    "x=data.drop(columns=['price'])\n",
    "y=data['price']\n",
    "y"
   ]
  },
  {
   "cell_type": "code",
   "execution_count": 6,
   "metadata": {},
   "outputs": [],
   "source": [
    "x_t,x_te,y_t,y_te=train_test_split(x,y,test_size=0.2,random_state=0)"
   ]
  },
  {
   "cell_type": "code",
   "execution_count": 7,
   "metadata": {},
   "outputs": [
    {
     "data": {
      "text/plain": [
       "0.8234146633312646"
      ]
     },
     "execution_count": 7,
     "metadata": {},
     "output_type": "execute_result"
    }
   ],
   "source": [
    "c_t=make_column_transformer((OneHotEncoder(sparse_output=False),['location']),remainder='passthrough')\n",
    "scaler=StandardScaler()\n",
    "ri=Ridge()\n",
    "pipe=make_pipeline(c_t,scaler,ri)\n",
    "pipe.fit(x_t,y_t)\n",
    "y_p_ri=pipe.predict(x_te)\n",
    "r2_score(y_te,y_p_ri)\n"
   ]
  },
  {
   "cell_type": "code",
   "execution_count": 8,
   "metadata": {},
   "outputs": [],
   "source": [
    "import pickle\n",
    "pickle.dump(pipe,open('r3.pkl','wb'))"
   ]
  },
  {
   "cell_type": "code",
   "execution_count": 9,
   "metadata": {},
   "outputs": [],
   "source": [
    "pipe=pickle.load(open(\"r3.pkl\",'rb'))"
   ]
  },
  {
   "cell_type": "code",
   "execution_count": 10,
   "metadata": {},
   "outputs": [
    {
     "data": {
      "text/plain": [
       "array([335.49733658])"
      ]
     },
     "execution_count": 10,
     "metadata": {},
     "output_type": "execute_result"
    }
   ],
   "source": [
    "lo=\"1st Block Jayanagar\"\n",
    "sqrt='2850'\n",
    "bath='4'\n",
    "bhk='4'\n",
    "input=pd.DataFrame([[lo,sqrt,bath,bhk]],columns=['location','total_sqft','bath','bhk'])\n",
    "p=pipe.predict(input)\n",
    "p"
   ]
  }
 ],
 "metadata": {
  "kernelspec": {
   "display_name": "Python 3",
   "language": "python",
   "name": "python3"
  },
  "language_info": {
   "codemirror_mode": {
    "name": "ipython",
    "version": 3
   },
   "file_extension": ".py",
   "mimetype": "text/x-python",
   "name": "python",
   "nbconvert_exporter": "python",
   "pygments_lexer": "ipython3",
   "version": "3.11.2"
  }
 },
 "nbformat": 4,
 "nbformat_minor": 2
}
